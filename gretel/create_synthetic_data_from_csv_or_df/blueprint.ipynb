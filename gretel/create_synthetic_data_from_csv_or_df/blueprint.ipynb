{
 "cells": [
  {
   "cell_type": "markdown",
   "metadata": {},
   "source": [
    "# Create a synthetic version of your own CSV or DataFrame\n",
    "\n",
    "This blueprint utilizes Gretel's premium SDKs to create a synthetic version of your own data. Our SDKs create automatic data validators to help ensure the data generated has the same semantics as the source data. Additionally, the SDKs do autmoatic header clustering to help maintain statistical relations between columns."
   ]
  },
  {
   "cell_type": "code",
   "execution_count": null,
   "metadata": {},
   "outputs": [],
   "source": [
    "%%capture\n",
    "\n",
    "!pip install -U gretel-client \"gretel-synthetics>=0.14.0\" pandas"
   ]
  },
  {
   "cell_type": "code",
   "execution_count": null,
   "metadata": {},
   "outputs": [],
   "source": [
    "# Load your Gretel API key. You can acquire this from the Gretel Console @ https://console.gretel.cloud\n",
    "\n",
    "import getpass\n",
    "import os\n",
    "\n",
    "gretel_api_key = os.getenv(\"GRETEL_API_KEY\") or getpass.getpass(\"Your Gretel API Key\")"
   ]
  },
  {
   "cell_type": "code",
   "execution_count": null,
   "metadata": {},
   "outputs": [],
   "source": [
    "# Install Gretel SDKs\n",
    "\n",
    "from gretel_client import get_cloud_client\n",
    "\n",
    "client = get_cloud_client(\"api\", api_key=gretel_api_key)\n",
    "\n",
    "client.install_packages()"
   ]
  },
  {
   "cell_type": "code",
   "execution_count": null,
   "metadata": {},
   "outputs": [],
   "source": [
    "# Load and preview dataset\n",
    "\n",
    "import pandas as pd\n",
    "\n",
    "dataset_path = 'https://gretel-public-website.s3-us-west-2.amazonaws.com/datasets/healthcare-analytics-vidhya/train_data.csv'\n",
    "nrows = 10000  # We will use this later when generating data\n",
    "training_df = pd.read_csv(dataset_path, nrows=nrows)\n",
    "training_df.head()"
   ]
  },
  {
   "cell_type": "code",
   "execution_count": null,
   "metadata": {},
   "outputs": [],
   "source": [
    "# Create the Gretel Synthtetics Training / Model Configuration\n",
    "\n",
    "from pathlib import Path\n",
    "\n",
    "checkpoint_dir = str(Path.cwd() / \"checkpoints\")\n",
    "\n",
    "config_template = {\n",
    "    \"checkpoint_dir\": checkpoint_dir,\n",
    "    \"vocab_size\": 20000\n",
    "}"
   ]
  },
  {
   "cell_type": "code",
   "execution_count": null,
   "metadata": {},
   "outputs": [],
   "source": [
    "# Create a Gretel Synthetic Data Bundle\n",
    "\n",
    "from gretel_helpers.synthetics import create_df, SyntheticDataBundle\n",
    "\n",
    "bundle = SyntheticDataBundle(\n",
    "    training_df=training_df,\n",
    "    delimiter=None, # if ``None``, it will try and automatically be detected, otherwise you can set it\n",
    "    auto_validate=True, # build record validators that learn per-column, these are used to ensure generated records have the same composition as the original\n",
    "    synthetic_config=config_template, # the config for Synthetics\n",
    ")"
   ]
  },
  {
   "cell_type": "code",
   "execution_count": null,
   "metadata": {},
   "outputs": [],
   "source": [
    "bundle.build()"
   ]
  },
  {
   "cell_type": "code",
   "execution_count": null,
   "metadata": {},
   "outputs": [],
   "source": [
    "bundle.train()"
   ]
  },
  {
   "cell_type": "code",
   "execution_count": null,
   "metadata": {},
   "outputs": [],
   "source": [
    "# num_lines: how many rows to generate\n",
    "# max_invalid: the number of rows that do not pass semantic validation, if this number is exceeded, training will\n",
    "# stop\n",
    "bundle.generate(num_lines=nrows, max_invalid=nrows)"
   ]
  },
  {
   "cell_type": "code",
   "execution_count": null,
   "metadata": {},
   "outputs": [],
   "source": [
    "bundle.get_synthetic_df().head()"
   ]
  },
  {
   "cell_type": "code",
   "execution_count": null,
   "metadata": {},
   "outputs": [],
   "source": [
    "# Generate report that shows the statistical performance between the training and synthetic data\n",
    "\n",
    "bundle.generate_report()"
   ]
  },
  {
   "cell_type": "code",
   "execution_count": null,
   "metadata": {},
   "outputs": [],
   "source": [
    "# Optionally save your model\n",
    "\n",
    "bundle.save(\"my_model.tar.gz\")"
   ]
  },
  {
   "cell_type": "code",
   "execution_count": null,
   "metadata": {},
   "outputs": [],
   "source": [
    "# Export your new data\n",
    "\n",
    "bundle.get_synthetic_df().to_csv('synthetic-data.csv', index=False)"
   ]
  }
 ],
 "metadata": {
  "kernelspec": {
   "display_name": "Python 3",
   "language": "python",
   "name": "python3"
  },
  "language_info": {
   "codemirror_mode": {
    "name": "ipython",
    "version": 3
   },
   "file_extension": ".py",
   "mimetype": "text/x-python",
   "name": "python",
   "nbconvert_exporter": "python",
   "pygments_lexer": "ipython3",
   "version": "3.7.5"
  }
 },
 "nbformat": 4,
 "nbformat_minor": 4
}
