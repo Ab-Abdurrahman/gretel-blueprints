{
 "cells": [
  {
   "cell_type": "raw",
   "metadata": {},
   "source": [
    "# Integrate Gretel On-Prem NER with your Logstash Pipeline\n",
    "\n",
    "Integrate Gretel On-Prem NER with your Logstash Pipeline."
   ]
  },
  {
   "cell_type": "code",
   "execution_count": null,
   "metadata": {},
   "outputs": [],
   "source": [
    "# Install dependencies.\n",
    "# %%capture\n",
    "\n",
    "import sys\n",
    "\n",
    "!{sys.executable} -m pip install -U requests faker"
   ]
  },
  {
   "cell_type": "code",
   "execution_count": null,
   "metadata": {},
   "outputs": [],
   "source": [
    "# Be sure to use your Gretel API key here, which is available from the Profile menu in the Console.\n",
    "\n",
    "import getpass\n",
    "import os\n",
    "\n",
    "gretel_api_key = os.getenv(\"GRETEL_API_KEY\") or getpass.getpass(\"Your Gretel API Key\")"
   ]
  },
  {
   "cell_type": "code",
   "execution_count": null,
   "metadata": {},
   "outputs": [],
   "source": [
    "# Spin up Logstash, Gretel NER, Elasticsearch and Kibana containers.\n",
    "!GRETEL_API_KEY={gretel_api_key} docker-compose up -d"
   ]
  },
  {
   "cell_type": "code",
   "execution_count": null,
   "metadata": {},
   "outputs": [],
   "source": [
    "# Import dependencies.\n",
    "from random import random\n",
    "\n",
    "import requests\n",
    "from faker import Faker\n",
    "\n",
    "faker = Faker()\n"
   ]
  },
  {
   "cell_type": "code",
   "execution_count": null,
   "metadata": {},
   "outputs": [],
   "source": [
    "# Utility to make fake records.\n",
    "def get_bike_orders(count=0):\n",
    "    current = 0\n",
    "    while count == 0 or current < count:\n",
    "        gender = 'F' if random() < 0.5 else 'M'\n",
    "        yield {\n",
    "            \"CustomerID\": faker.pyint(10000, 99999),\n",
    "            \"Title\": None,\n",
    "            \"FirstName\": faker.first_name_female() if gender == 'F' else faker.first_name_male(),\n",
    "            \"MiddleName\": (faker.first_name_female() if gender == 'F' else faker.first_name_male())\n",
    "            if random() < 0.5 else None,\n",
    "            \"LastName\": faker.last_name(),\n",
    "            \"Suffix\": None,\n",
    "            \"AddressLine1\": faker.street_address(),\n",
    "            \"AddressLine2\": None,\n",
    "            \"City\": faker.city(),\n",
    "            \"StateProvinceName\": faker.state(),\n",
    "            \"CountryRegionName\": \"United States\",\n",
    "            \"PostalCode\": faker.zipcode(),\n",
    "            \"PhoneNumber\": faker.phone_number(),\n",
    "            # EXCLUDE BirthDate, can cause ES to dynamically type body.text as date, not string.\n",
    "            # \"BirthDate\": f\"{faker.pyint(1930, 2010)}-{faker.pyint(1, 12):02}-{faker.pyint(1, 28):02}\",\n",
    "            \"Education\": faker.random.choice([\"High School\", \"College Degree\", \"Graduate Degree\"]),\n",
    "            \"Occupation\": faker.random.choice([\"Disk Jockey\", \"Burger Jockey\", \"Thrill Jockey\", \"Jockey\"]),\n",
    "            \"Gender\": gender,\n",
    "            \"MaritalStatus\": \"S\" if random() < 0.5 else \"M\",\n",
    "            \"HomeOwnerFlag\": 0 if random() < 0.5 else 1,\n",
    "            \"NumberCarsOwned\": faker.pyint(0, 4),\n",
    "            \"NumberChildrenAtHome\": faker.pyint(0, 4),\n",
    "            \"TotalChildren\": faker.pyint(0, 4),\n",
    "            \"YearlyIncome\": faker.pyint(10000, 999999),\n",
    "            \"ExtraText\": f\"My other address is {faker.ipv4()}.\" if random() < 0.025 else \"Blah blah blah!\"\n",
    "        }\n",
    "        if count > 0:\n",
    "            current += 1"
   ]
  },
  {
   "cell_type": "code",
   "execution_count": null,
   "metadata": {},
   "outputs": [],
   "source": [
    "# Logstash listens for new records on this URL.\n",
    "url = 'http://localhost:8080'\n",
    "\n",
    "for order in get_bike_orders(count=1000):\n",
    "    requests.post(url, data=order)"
   ]
  },
  {
   "cell_type": "code",
   "execution_count": null,
   "metadata": {},
   "outputs": [],
   "source": [
    "# Clean up.\n",
    "!GRETEL_API_KEY={gretel_api_key} docker-compose down"
   ]
  },
  {
   "cell_type": "code",
   "execution_count": null,
   "metadata": {},
   "outputs": [],
   "source": []
  }
 ],
 "metadata": {
  "kernelspec": {
   "display_name": "Python 3",
   "language": "python",
   "name": "python3"
  },
  "language_info": {
   "codemirror_mode": {
    "name": "ipython",
    "version": 3
   },
   "file_extension": ".py",
   "mimetype": "text/x-python",
   "name": "python",
   "nbconvert_exporter": "python",
   "pygments_lexer": "ipython3",
   "version": "3.7.8"
  }
 },
 "nbformat": 4,
 "nbformat_minor": 4
}
