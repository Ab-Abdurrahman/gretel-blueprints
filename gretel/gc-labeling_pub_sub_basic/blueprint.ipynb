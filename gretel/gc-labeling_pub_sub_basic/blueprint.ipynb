{
 "cells": [
  {
   "cell_type": "markdown",
   "metadata": {},
   "source": [
    "# Introduction to Data Labeling with Gretel Cloud APIs\n",
    "\n",
    "This blueprint gives a very basic introduction on how to utilize Gretel's Cloud APIs to label data in a publish / subscribe model. In the below code we start a producer thread that simply creates a fake record and sends it to a temporary Gretel Cloud Project. \n",
    "\n",
    "Meanwhile, the main thread will consume labeled records from the project and just print them to stdout."
   ]
  },
  {
   "cell_type": "code",
   "execution_count": null,
   "metadata": {},
   "outputs": [],
   "source": [
    "%%capture\n",
    "\n",
    "!pip install -U gretel-client faker"
   ]
  },
  {
   "cell_type": "code",
   "execution_count": null,
   "metadata": {},
   "outputs": [],
   "source": [
    "import os\n",
    "import getpass\n",
    "import sys\n",
    "import threading\n",
    "import time\n",
    "\n",
    "from faker import Faker\n",
    "\n",
    "from gretel_client import get_cloud_client\n",
    "from gretel_client.client import temporary_project\n",
    "from gretel_client.projects import Project\n",
    "\n",
    "API_KEY = os.getenv(\"GRETEL_API_KEY\") or getpass.getpass(\"Gretel API Key:\")"
   ]
  },
  {
   "cell_type": "code",
   "execution_count": null,
   "metadata": {},
   "outputs": [],
   "source": [
    "def subscriber(project: Project):\n",
    "    # By default, ``iter_records()`` will block waiting for\n",
    "    # new labeled records to be ready for consumption. It will\n",
    "    # fetch in batches, so if there are already records in the\n",
    "    # stream, we will immediately yield the most recent 200 records.\n",
    "    for rec in project.iter_records():\n",
    "        yield rec\n",
    "\n",
    "\n",
    "def publish(project: Project, event: threading.Event):\n",
    "    fake = Faker()\n",
    "    while not event.is_set():\n",
    "        rec = {\n",
    "            \"name\": fake.name(),\n",
    "            \"phone\": fake.phone_number()\n",
    "        }\n",
    "        project.send(rec)\n",
    "        time.sleep(2)\n",
    "\n",
    "\n",
    "def start(api_key: str):\n",
    "    client = get_cloud_client(\"api\", api_key)\n",
    "    \n",
    "    # NOTE: When this context handler exits, the project will\n",
    "    # be automatically deleted.\n",
    "    with temporary_project(client) as project:\n",
    "        print(f\"*** Console Project URL: {project.get_console_url()} ***\\n\")\n",
    "        print(\"Visit the link above while this example runs to see your records in Gretel Cloud!\\n\\n\")\n",
    "        publish_event = threading.Event()\n",
    "        publish_thread = threading.Thread(target=publish, args=(project, publish_event))\n",
    "        publish_thread.start()\n",
    "        try:\n",
    "            for rec in subscriber(project):\n",
    "                print(rec)\n",
    "        except KeyboardInterrupt:\n",
    "            print(\"Shutting down...\")\n",
    "        finally:\n",
    "            publish_event.set()\n",
    "            publish_thread.join()\n",
    "    "
   ]
  },
  {
   "cell_type": "code",
   "execution_count": null,
   "metadata": {},
   "outputs": [],
   "source": [
    "start(API_KEY)"
   ]
  }
 ],
 "metadata": {
  "kernelspec": {
   "display_name": "Python 3",
   "language": "python",
   "name": "python3"
  },
  "language_info": {
   "codemirror_mode": {
    "name": "ipython",
    "version": 3
   },
   "file_extension": ".py",
   "mimetype": "text/x-python",
   "name": "python",
   "nbconvert_exporter": "python",
   "pygments_lexer": "ipython3",
   "version": "3.7.5"
  }
 },
 "nbformat": 4,
 "nbformat_minor": 4
}
