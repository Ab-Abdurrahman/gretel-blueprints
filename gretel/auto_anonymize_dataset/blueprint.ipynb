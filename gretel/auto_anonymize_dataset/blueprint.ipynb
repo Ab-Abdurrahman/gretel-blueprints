{
 "cells": [
  {
   "cell_type": "code",
   "execution_count": null,
   "metadata": {},
   "outputs": [],
   "source": [
    "!pip install -Uqq gretel-client"
   ]
  },
  {
   "cell_type": "code",
   "execution_count": null,
   "metadata": {},
   "outputs": [],
   "source": [
    "# remove me, local boilerplate\n",
    "\n",
    "%load_ext autoreload\n",
    "%autoreload 2\n",
    "\n",
    "import os\n",
    "os.chdir(os.path.normpath(\"../../../transformers/src\"))\n",
    "\n",
    "os.environ[\"GRETEL_URI\"] = \"gretel://api-dev.gretel.cloud/bike-orders\""
   ]
  },
  {
   "cell_type": "markdown",
   "metadata": {},
   "source": [
    "# Auto-anonymization Pipeline\n",
    "\n",
    "The objective in this notebook is to sufficiently anonymize a dataset containing PII so that it can be shared amongst users without revealing any identifying or sensitive details.\n",
    "\n",
    "Using Gretel's [Data Catalog](https://gretel.ai/platform/data-catalog) and [Transformation](https://gretel.ai/platform/transform) features, this blueprint will walk through creating a pipeline for automatically anonymizing a dataset."
   ]
  },
  {
   "cell_type": "markdown",
   "metadata": {},
   "source": [
    "### Setup\n",
    "\n",
    "First we'll import the Gretel client depedencies and build up a client pointing to the project."
   ]
  },
  {
   "cell_type": "code",
   "execution_count": null,
   "metadata": {},
   "outputs": [],
   "source": [
    "from gretel_client import project_from_uri\n",
    "\n",
    "project = project_from_uri(\"prompt\")"
   ]
  },
  {
   "cell_type": "code",
   "execution_count": null,
   "metadata": {},
   "outputs": [],
   "source": [
    "project.client.install_packages(version=\"dev\")"
   ]
  },
  {
   "cell_type": "markdown",
   "metadata": {},
   "source": [
    "## Inspect source dataset\n",
    "\n",
    "For this demonstration we've chosen a dataset containing bike order details. As you will see, this dataset contains personally identifying information such as names, email and personal financial details. "
   ]
  },
  {
   "cell_type": "code",
   "execution_count": null,
   "metadata": {},
   "outputs": [],
   "source": [
    "project.head()"
   ]
  },
  {
   "cell_type": "markdown",
   "metadata": {},
   "source": [
    "## Build the pipeline"
   ]
  },
  {
   "cell_type": "code",
   "execution_count": null,
   "metadata": {},
   "outputs": [],
   "source": [
    "from gretel_auto_xf.pipeline import build_pipeline\n",
    "from gretel_auto_xf.helpers import rule_inspector, df_diff"
   ]
  },
  {
   "cell_type": "markdown",
   "metadata": {},
   "source": [
    "`build_pipeline` will analyze the source dataset and generate a transformation pipeline that can be used to create an anonymized version of the source dataset."
   ]
  },
  {
   "cell_type": "code",
   "execution_count": null,
   "metadata": {},
   "outputs": [],
   "source": [
    "pipeline = build_pipeline(project, show_progress=True)"
   ]
  },
  {
   "cell_type": "code",
   "execution_count": null,
   "metadata": {},
   "outputs": [],
   "source": [
    "rule_inspector(pipeline)"
   ]
  },
  {
   "cell_type": "markdown",
   "metadata": {},
   "source": [
    "## Run the anonymization pipeline\n",
    "\n",
    "Now that we've selected what transformations to apply, we can run the pipeline against the Gretel project. `xf_project` will retrieve the original records from the Gretel project and apply the anonymization pipeline.\n",
    "\n",
    "The result of `xf_records` is an anonymized version of the original dataset."
   ]
  },
  {
   "cell_type": "code",
   "execution_count": null,
   "metadata": {},
   "outputs": [],
   "source": [
    "anonymized_df, scores = pipeline.xf_project(as_df=True, show_progress=True)"
   ]
  },
  {
   "cell_type": "markdown",
   "metadata": {},
   "source": [
    "## Compare datasets\n",
    "\n",
    "Let's compare the two datasets... `df_diff` will perform a row-wise comparison by field."
   ]
  },
  {
   "cell_type": "code",
   "execution_count": null,
   "metadata": {},
   "outputs": [],
   "source": [
    "df_diff(project.head(), anonymized_df, key=\"CustomerID\", value=16625)"
   ]
  },
  {
   "cell_type": "markdown",
   "metadata": {},
   "source": [
    "`scores` will return a set of scores for each record transformed. Scores are expected to be grouped close together. Any outliers in the dataset may indicate some records weren't properly anonymized."
   ]
  },
  {
   "cell_type": "code",
   "execution_count": null,
   "metadata": {},
   "outputs": [],
   "source": [
    "scores.plot.hist()"
   ]
  },
  {
   "cell_type": "markdown",
   "metadata": {},
   "source": [
    "## Save the anonymized dataset\n",
    "\n",
    "Now that we've generated an anonymized version of the dataset, let's save it so it can be shared."
   ]
  },
  {
   "cell_type": "code",
   "execution_count": null,
   "metadata": {},
   "outputs": [],
   "source": [
    "anonymized_df.to_csv(\"bike_orders_anonymized.csv\")"
   ]
  },
  {
   "cell_type": "markdown",
   "metadata": {},
   "source": [
    "Alternatively, we can upload the anonymized dataset to Gretel where it can be safely accessed by users."
   ]
  },
  {
   "cell_type": "code",
   "execution_count": null,
   "metadata": {},
   "outputs": [],
   "source": [
    "anonymized_project = project.client.get_project(display_name=\"Sample Blueprint: Anonymized Bike Orders\", create=True)\n",
    "anonymized_project.send_dataframe(anonymized_df, use_progress_widget=True)\n",
    "\n",
    "print(f\"Your new Gretel project has been created! Access it here, {anonymized_project.get_console_url()}.\")"
   ]
  },
  {
   "cell_type": "code",
   "execution_count": null,
   "metadata": {},
   "outputs": [],
   "source": []
  }
 ],
 "metadata": {
  "kernelspec": {
   "display_name": "Python 3",
   "language": "python",
   "name": "python3"
  },
  "language_info": {
   "codemirror_mode": {
    "name": "ipython",
    "version": 3
   },
   "file_extension": ".py",
   "mimetype": "text/x-python",
   "name": "python",
   "nbconvert_exporter": "python",
   "pygments_lexer": "ipython3",
   "version": "3.7.9"
  }
 },
 "nbformat": 4,
 "nbformat_minor": 4
}
