{
  "nbformat": 4,
  "nbformat_minor": 0,
  "metadata": {
    "accelerator": "GPU",
    "colab": {
      "name": "Gretel Blueprint: Auto-Balance Dataset",
      "provenance": [],
      "collapsed_sections": [],
      "toc_visible": true
    },
    "kernelspec": {
      "display_name": "Python 3",
      "language": "python",
      "name": "python3"
    },
    "language_info": {
      "codemirror_mode": {
        "name": "ipython",
        "version": 3
      },
      "file_extension": ".py",
      "mimetype": "text/x-python",
      "name": "python",
      "nbconvert_exporter": "python",
      "pygments_lexer": "ipython3",
      "version": "3.7.9"
    }
  },
  "cells": [
    {
      "cell_type": "markdown",
      "metadata": {
        "id": "Ee-Fh75XnQHX"
      },
      "source": [
        "# Gretel Blueprint: Auto-Balance Dataset\n",
        "Use Gretel-Synthetics to automatically balance your project data. This blueprint can be used in support of fair AI and generally any imbalanced dataset to boost minority classes. In one pass, bias will be completely removed from as many fields as you like."
      ]
    },
    {
      "cell_type": "markdown",
      "metadata": {
        "id": "y9_t84MuNLFi"
      },
      "source": [
        "# Install Packages\n",
        "Install open source and premium packages from Gretel.ai"
      ]
    },
    {
      "cell_type": "code",
      "metadata": {
        "id": "-N2jfpPqsgZ7"
      },
      "source": [
        "%%capture\n",
        "!pip install numpy pandas \n",
        "!pip install -U gretel-client gretel-synthetics"
      ],
      "execution_count": null,
      "outputs": []
    },
    {
      "cell_type": "code",
      "metadata": {
        "id": "bgefJFCLnQHd"
      },
      "source": [
        "# Be sure to use your Gretel URI here, which is available from the Integration menu in the Console\n",
        "\n",
        "import getpass\n",
        "import os\n",
        "\n",
        "gretel_uri = os.getenv(\"GRETEL_URI\") or getpass.getpass(\"Your Gretel URI\")"
      ],
      "execution_count": null,
      "outputs": []
    },
    {
      "cell_type": "code",
      "metadata": {
        "id": "t86xQEZMnQHe"
      },
      "source": [
        "# Install Gretel SDKs\n",
        "\n",
        "from gretel_client import project_from_uri\n",
        "\n",
        "project = project_from_uri(gretel_uri)\n",
        "client = project.client\n",
        "project.client.install_packages()"
      ],
      "execution_count": null,
      "outputs": []
    },
    {
      "cell_type": "markdown",
      "metadata": {
        "id": "XKnvIvJlnQHe"
      },
      "source": [
        "# Import Blueprint Modules\n",
        "If you are running on Google Colab, use the first cell to download files from our blueprint repo into a Colab notebook's working directory. Remember to change colab to a GPU runtime."
      ]
    },
    {
      "cell_type": "code",
      "metadata": {
        "id": "XIPeb4CXnQHe"
      },
      "source": [
        "!curl -sL https://get.gretel.cloud/blueprint.sh | bash -s gretel/auto_balance_dataset/*.py"
      ],
      "execution_count": null,
      "outputs": []
    },
    {
      "cell_type": "code",
      "metadata": {
        "id": "rGUqKvX5nQHe"
      },
      "source": [
        "import bias_bp_inputs as bpi\n",
        "import bias_bp_generate as bpgen\n",
        "import bias_bp_graphs as bpg\n",
        "import bias_bp_data as bpd"
      ],
      "execution_count": null,
      "outputs": []
    },
    {
      "cell_type": "markdown",
      "metadata": {
        "id": "T0yn3yBU9ukF"
      },
      "source": [
        "# Gather Project Data\n",
        "There are two different modes for balancing your data.  The first (mode=\"full\"), is the scenario where you'd like to generate a complete synthetic dataset with bias removed. The second (mode=\"additive\"), is the scenario where you only want to generate synthetic samples, such that when added to the original set will remove bias.\n",
        "\n",
        "In the below command to gather project data, specifiy the appropriate mode, as well as the number of records from your project that you'd like to use (num_records). If you are running in mode \"full\", please also specify \n",
        "the number of synthetic data records you'd like generated (gen_lines). If you are running in mode \"additive\", we will tell you the number of synthetic data records that will need to be generated to balance your dataset after you have chosen the fields to balance."
      ]
    },
    {
      "cell_type": "code",
      "metadata": {
        "id": "tWxT-470nQHf"
      },
      "source": [
        "project_info = bpd.get_project_info(project, mode=\"full\", num_records=14000, gen_lines=1000)"
      ],
      "execution_count": null,
      "outputs": []
    },
    {
      "cell_type": "code",
      "metadata": {
        "id": "Y0zqqv1unQHf"
      },
      "source": [
        "project_info[\"records\"].head()"
      ],
      "execution_count": null,
      "outputs": []
    },
    {
      "cell_type": "markdown",
      "metadata": {
        "id": "3sWtspyXnQHg"
      },
      "source": [
        "# Look at Current Categorical Field Distributions\n",
        "Graphs are shown for categorical fields having a unique value count less than or equal \n",
        "to the parameter \"uniq_cnt_threshold\".  Adjust this parameter to fit your needs."
      ]
    },
    {
      "cell_type": "code",
      "metadata": {
        "id": "hEc4GcLRnQHg"
      },
      "source": [
        "bpg.show_field_graphs(project_info[\"field_stats\"], uniq_cnt_threshold=10)"
      ],
      "execution_count": null,
      "outputs": []
    },
    {
      "cell_type": "markdown",
      "metadata": {
        "id": "eRWmYvXznQHg"
      },
      "source": [
        "# Choose Which Fields to Fix Bias In"
      ]
    },
    {
      "cell_type": "code",
      "metadata": {
        "id": "4o7McqxDnQHg"
      },
      "source": [
        "project_info = bpi.choose_bias_fields(project_info)"
      ],
      "execution_count": null,
      "outputs": []
    },
    {
      "cell_type": "markdown",
      "metadata": {
        "id": "T9ECkQkSnQHg"
      },
      "source": [
        "# Compute Records Needed to Fix Bias\n",
        "\n",
        "If you are running in mode \"additive\", this command will also tell you the total number of synthetic\n",
        "records that will need to be generated to fix the bias in your chosen fields. After viewing this, if you\n",
        "would like to go back and adjust your bias field selections, you may."
      ]
    },
    {
      "cell_type": "code",
      "metadata": {
        "id": "fr1mEP3YnQHh"
      },
      "source": [
        "project_info = bpgen.compute_synth_needs(project_info)"
      ],
      "execution_count": null,
      "outputs": []
    },
    {
      "cell_type": "markdown",
      "metadata": {
        "id": "bZ_Vt9NQnQHh"
      },
      "source": [
        "# Train Your Synthetic Model\n",
        "\n",
        "- See [our documentation](https://gretel-synthetics.readthedocs.io/en/stable/api/config.html) for additional config options"
      ]
    },
    {
      "cell_type": "code",
      "metadata": {
        "id": "dAZNCflknQHh"
      },
      "source": [
        "# Create the Gretel Synthtetics Training / Model Configuration\n",
        "from pathlib import Path\n",
        "\n",
        "checkpoint_dir = str(Path.cwd() / \"checkpoints\")\n",
        "\n",
        "config_template = {\n",
        "    \"checkpoint_dir\": checkpoint_dir,\n",
        "    \"overwrite\": True\n",
        "}"
      ],
      "execution_count": null,
      "outputs": []
    },
    {
      "cell_type": "code",
      "metadata": {
        "id": "ravd-PeZ-JUW"
      },
      "source": [
        "# Capture transient error in Google Colab\n",
        "\n",
        "try:\n",
        "    from gretel_helpers.synthetics import SyntheticDataBundle\n",
        "except FileNotFoundError:\n",
        "    from gretel_helpers.synthetics import SyntheticDataBundle"
      ],
      "execution_count": null,
      "outputs": []
    },
    {
      "cell_type": "code",
      "metadata": {
        "id": "fdeYoX2-nQHh"
      },
      "source": [
        "#Create the Synthetic Training Model\n",
        "from gretel_helpers.synthetics import SyntheticDataBundle\n",
        "\n",
        "model = SyntheticDataBundle(\n",
        "    header_prefix=bpd.bias_fields(project_info),\n",
        "    training_df=project_info[\"records\"],\n",
        "    delimiter=\",\", # Specify the appropriate delimeter in your data\n",
        "    auto_validate=True, \n",
        "    synthetic_config=config_template, \n",
        ")\n",
        "\n",
        "model.build()"
      ],
      "execution_count": null,
      "outputs": []
    },
    {
      "cell_type": "code",
      "metadata": {
        "id": "-yHLEqB7nQHh"
      },
      "source": [
        "# Now train your model\n",
        "model.train()"
      ],
      "execution_count": null,
      "outputs": []
    },
    {
      "cell_type": "markdown",
      "metadata": {
        "id": "U5HKHN1SnQHh"
      },
      "source": [
        "# Generate Balanced Synthetic Data"
      ]
    },
    {
      "cell_type": "code",
      "metadata": {
        "id": "K-f-VkB_nQHi"
      },
      "source": [
        "synth_df = bpgen.gen_synth_nobias(model, project_info)"
      ],
      "execution_count": null,
      "outputs": []
    },
    {
      "cell_type": "markdown",
      "metadata": {
        "id": "ppMQIeiZnQHi"
      },
      "source": [
        "# Take a Look At Your Synthetic Data"
      ]
    },
    {
      "cell_type": "code",
      "metadata": {
        "id": "GfFm2q38nQHi"
      },
      "source": [
        "synth_df.head()"
      ],
      "execution_count": null,
      "outputs": []
    },
    {
      "cell_type": "markdown",
      "metadata": {
        "id": "pregQJVCnQHi"
      },
      "source": [
        "# Combine Your Original and New Synthetic Data\n",
        "Relevant if you are using mode=\"additive\""
      ]
    },
    {
      "cell_type": "code",
      "metadata": {
        "id": "nzwdVSkUnQHi"
      },
      "source": [
        "import pandas as pd\n",
        "new_df = pd.concat([synth_df,project_info[\"records\"]],ignore_index=True)"
      ],
      "execution_count": null,
      "outputs": []
    },
    {
      "cell_type": "markdown",
      "metadata": {
        "id": "V_XtKk0onQHi"
      },
      "source": [
        "# Save to CSV"
      ]
    },
    {
      "cell_type": "code",
      "metadata": {
        "id": "rdaDBdygnQHj"
      },
      "source": [
        "synth_df.to_csv('synthetic-data.csv', index=False, header=True)\n",
        "#new_df.to_csv('synth-plus-orig-data.csv', index=False, header=True)"
      ],
      "execution_count": null,
      "outputs": []
    },
    {
      "cell_type": "markdown",
      "metadata": {
        "id": "731onBi4nQHj"
      },
      "source": [
        "# Save to New Gretel Project"
      ]
    },
    {
      "cell_type": "code",
      "metadata": {
        "id": "eiPWJCbhnQHj"
      },
      "source": [
        "new_project = client.get_project(create=True)\n",
        "new_project.send_dataframe(synth_df, detection_mode='fast') #alternatively use new_df\n",
        "print(f\"Access your project at {new_project.get_console_url()}\") "
      ],
      "execution_count": null,
      "outputs": []
    },
    {
      "cell_type": "code",
      "metadata": {
        "id": "1f7sli1HnQHj"
      },
      "source": [
        "#Delete project if you don't need it\n",
        "new_project.delete()"
      ],
      "execution_count": null,
      "outputs": []
    },
    {
      "cell_type": "markdown",
      "metadata": {
        "id": "ISIkmmaRnQHj"
      },
      "source": [
        "# Show New Distributions\n",
        "When running in \"full\" mode, graphs will be shown comparing training data to synthetic data.  When running in \"additive\" mode, still pass in the synth_df and the graphs will automatically compare training data to training plus synthetic records."
      ]
    },
    {
      "cell_type": "code",
      "metadata": {
        "id": "OfC12KzynQHj"
      },
      "source": [
        "bpg.show_new_graphs(project_info, synth_df)"
      ],
      "execution_count": null,
      "outputs": []
    },
    {
      "cell_type": "markdown",
      "metadata": {
        "id": "o5ITgSKCnQHk"
      },
      "source": [
        "# Generate a Full Synthetic Performance Report\n",
        "Correlations and distributions in non-bias fields should, as always, transfer from training data to synthetic data."
      ]
    },
    {
      "cell_type": "code",
      "metadata": {
        "id": "v-vk70dKnQHk"
      },
      "source": [
        "from gretel_helpers.reports.correlation import generate_report\n",
        "from IPython.core.display import display\n",
        "from IPython.display import IFrame\n",
        "\n",
        "generate_report(project_info[\"records\"], synth_df, report_path=\"./report.html\") #alternatively use new_df\n",
        "display(IFrame(\"./report.html\", 1000, 600))"
      ],
      "execution_count": null,
      "outputs": []
    }
  ]
}