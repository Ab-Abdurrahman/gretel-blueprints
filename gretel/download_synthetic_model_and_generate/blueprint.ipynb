{
  "nbformat": 4,
  "nbformat_minor": 0,
  "metadata": {
    "kernelspec": {
      "display_name": "Python 3",
      "language": "python",
      "name": "python3"
    },
    "language_info": {
      "codemirror_mode": {
        "name": "ipython",
        "version": 3
      },
      "file_extension": ".py",
      "mimetype": "text/x-python",
      "name": "python",
      "nbconvert_exporter": "python",
      "pygments_lexer": "ipython3",
      "version": "3.7.5"
    },
    "colab": {
      "name": "blueprint.ipynb",
      "provenance": []
    }
  },
  "cells": [
    {
      "cell_type": "markdown",
      "metadata": {
        "id": "vj4iqwmX_VYp"
      },
      "source": [
        "# Create synthetic data from a previously archived model\n",
        "\n",
        "This blueprint will show you how to download a previously created synthetic data model, which can be saved to a `tar.gz` file after training. From here, you can download the model and easily generate new data."
      ]
    },
    {
      "cell_type": "code",
      "metadata": {
        "id": "oekCSoP0_VYv"
      },
      "source": [
        "%%capture\n",
        "\n",
        "!pip install -U smart-open gretel-client gretel-synthetics"
      ],
      "execution_count": null,
      "outputs": []
    },
    {
      "cell_type": "code",
      "metadata": {
        "id": "FxmMh2tr_VYv"
      },
      "source": [
        "# Where to unpack the archived model to\n",
        "\n",
        "TARGET_DIR = \"my_model_dir\"\n",
        "\n",
        "REMOTE_MODEL = \"https://gretel-public-website.s3-us-west-2.amazonaws.com/models/safecast/gretel-synthetics-safecast-model.tar.gz\""
      ],
      "execution_count": null,
      "outputs": []
    },
    {
      "cell_type": "code",
      "metadata": {
        "id": "MZhVhpT6_VYw"
      },
      "source": [
        "import os\n",
        "import getpass\n",
        "\n",
        "API_KEY = os.getenv(\"GRETEL_API_KEY\") or getpass.getpass(\"Gretel API Key:\")"
      ],
      "execution_count": null,
      "outputs": []
    },
    {
      "cell_type": "code",
      "metadata": {
        "id": "ENBKMs3z_VYw"
      },
      "source": [
        "# Install Gretel SDKs\n",
        "\n",
        "from gretel_client import get_cloud_client\n",
        "\n",
        "client = get_cloud_client(\"api\", API_KEY)\n",
        "client.install_packages()"
      ],
      "execution_count": null,
      "outputs": []
    },
    {
      "cell_type": "code",
      "metadata": {
        "id": "lVQFMlKg_VYw"
      },
      "source": [
        "from pathlib import Path\n",
        "import gzip\n",
        "import tarfile\n",
        "\n",
        "from smart_open import open as smart_open\n",
        "\n",
        "def unpack_remote_model_to_dir(remote_file: str, target_dir: str):\n",
        "    model_path = Path(target_dir)\n",
        "    if not model_path.is_dir():\n",
        "        model_path.mkdir()\n",
        "        \n",
        "    with smart_open(remote_file, \"rb\", ignore_ext=True) as fin:\n",
        "        with gzip.open(fin) as gzip_in:\n",
        "            with tarfile.open(fileobj=gzip_in, mode=\"r:gz\") as tar_in:\n",
        "                tar_in.extractall(model_path)"
      ],
      "execution_count": null,
      "outputs": []
    },
    {
      "cell_type": "code",
      "metadata": {
        "id": "9OdsFXTQ_fjr"
      },
      "source": [
        "# Capture transient error in Google Colab\n",
        "\n",
        "try:\n",
        "    from gretel_helpers.synthetics import SyntheticDataBundle\n",
        "except FileNotFoundError:\n",
        "    from gretel_helpers.synthetics import SyntheticDataBundle"
      ],
      "execution_count": null,
      "outputs": []
    },
    {
      "cell_type": "code",
      "metadata": {
        "id": "b5qaXKt2_VYw"
      },
      "source": [
        "from gretel_helpers.synthetics import SyntheticDataBundle\n",
        "\n",
        "def start():\n",
        "    unpack_remote_model_to_dir(REMOTE_MODEL, TARGET_DIR)\n",
        "    model = SyntheticDataBundle.load(TARGET_DIR)\n",
        "    model.generate(num_lines=100)\n",
        "    return model"
      ],
      "execution_count": null,
      "outputs": []
    },
    {
      "cell_type": "code",
      "metadata": {
        "id": "mTUba2rR_VYx"
      },
      "source": [
        "model = start()"
      ],
      "execution_count": null,
      "outputs": []
    },
    {
      "cell_type": "code",
      "metadata": {
        "id": "IO029Zh7_VYx"
      },
      "source": [
        "model.get_synthetic_df()"
      ],
      "execution_count": null,
      "outputs": []
    }
  ]
}