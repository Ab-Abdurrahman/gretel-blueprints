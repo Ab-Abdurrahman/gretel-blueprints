{
 "cells": [
  {
   "cell_type": "markdown",
   "metadata": {},
   "source": [
    "# Create synthetic data from a previously archived model\n",
    "\n",
    "This blueprint will show you how to download a previously created synthetic data model, which can be saved to a `tar.gz` file after training. From here, you can download the model and easily generate new data."
   ]
  },
  {
   "cell_type": "code",
   "execution_count": null,
   "metadata": {},
   "outputs": [],
   "source": [
    "%%capture\n",
    "\n",
    "# The test model below requires > v0.14.0 synthetics and was built with TF 2.3.1\n",
    "\n",
    "!pip install -U smart-open gretel-client \"gretel-synthetics>=0.14.0\""
   ]
  },
  {
   "cell_type": "code",
   "execution_count": null,
   "metadata": {},
   "outputs": [],
   "source": [
    "# Where to unpack the archived model to\n",
    "\n",
    "TARGET_DIR = \"my_model_dir\"\n",
    "\n",
    "REMOTE_MODEL = \"https://gretel-public-website.s3-us-west-2.amazonaws.com/models/safecast/gretel-synthetics-safecast-model.tar.gz\""
   ]
  },
  {
   "cell_type": "code",
   "execution_count": null,
   "metadata": {},
   "outputs": [],
   "source": [
    "import os\n",
    "import getpass\n",
    "\n",
    "API_KEY = os.getenv(\"GRETEL_API_KEY\") or getpass.getpass(\"Gretel API Key:\")"
   ]
  },
  {
   "cell_type": "code",
   "execution_count": null,
   "metadata": {},
   "outputs": [],
   "source": [
    "# Install Gretel SDKs\n",
    "\n",
    "from gretel_client import get_cloud_client\n",
    "\n",
    "client = get_cloud_client(\"api\", API_KEY)\n",
    "client.install_packages()"
   ]
  },
  {
   "cell_type": "code",
   "execution_count": null,
   "metadata": {},
   "outputs": [],
   "source": [
    "from pathlib import Path\n",
    "import gzip\n",
    "import tarfile\n",
    "\n",
    "from smart_open import open as smart_open\n",
    "\n",
    "def unpack_remote_model_to_dir(remote_file: str, target_dir: str):\n",
    "    model_path = Path(target_dir)\n",
    "    if not model_path.is_dir():\n",
    "        model_path.mkdir()\n",
    "        \n",
    "    with smart_open(remote_file, \"rb\", ignore_ext=True) as fin:\n",
    "        with gzip.open(fin) as gzip_in:\n",
    "            with tarfile.open(fileobj=gzip_in, mode=\"r:gz\") as tar_in:\n",
    "                tar_in.extractall(model_path)"
   ]
  },
  {
   "cell_type": "code",
   "execution_count": null,
   "metadata": {},
   "outputs": [],
   "source": [
    "from gretel_helpers.synthetics import SyntheticDataBundle\n",
    "\n",
    "def start():\n",
    "    unpack_remote_model_to_dir(REMOTE_MODEL, TARGET_DIR)\n",
    "    bundle = SyntheticDataBundle.load(TARGET_DIR)\n",
    "    bundle.generate(num_lines=100)\n",
    "    return bundle"
   ]
  },
  {
   "cell_type": "code",
   "execution_count": null,
   "metadata": {},
   "outputs": [],
   "source": [
    "bundle = start()"
   ]
  },
  {
   "cell_type": "code",
   "execution_count": null,
   "metadata": {},
   "outputs": [],
   "source": [
    "bundle.get_synthetic_df().head()"
   ]
  }
 ],
 "metadata": {
  "kernelspec": {
   "display_name": "Python 3",
   "language": "python",
   "name": "python3"
  },
  "language_info": {
   "codemirror_mode": {
    "name": "ipython",
    "version": 3
   },
   "file_extension": ".py",
   "mimetype": "text/x-python",
   "name": "python",
   "nbconvert_exporter": "python",
   "pygments_lexer": "ipython3",
   "version": "3.7.5"
  }
 },
 "nbformat": 4,
 "nbformat_minor": 4
}
